{
 "cells": [
  {
   "cell_type": "code",
   "execution_count": 15,
   "id": "c8bd31e8-2b1d-49cc-9a74-37f8f6d78a74",
   "metadata": {},
   "outputs": [
    {
     "name": "stdout",
     "output_type": "stream",
     "text": [
      "Requirement already satisfied: pandas in c:\\users\\thest\\anaconda3\\lib\\site-packages (2.1.4)\n",
      "Requirement already satisfied: matplotlib in c:\\users\\thest\\anaconda3\\lib\\site-packages (3.8.0)\n",
      "Requirement already satisfied: seaborn in c:\\users\\thest\\anaconda3\\lib\\site-packages (0.12.2)\n",
      "Requirement already satisfied: numpy<2,>=1.23.2 in c:\\users\\thest\\anaconda3\\lib\\site-packages (from pandas) (1.26.4)\n",
      "Requirement already satisfied: python-dateutil>=2.8.2 in c:\\users\\thest\\anaconda3\\lib\\site-packages (from pandas) (2.8.2)\n",
      "Requirement already satisfied: pytz>=2020.1 in c:\\users\\thest\\anaconda3\\lib\\site-packages (from pandas) (2023.3.post1)\n",
      "Requirement already satisfied: tzdata>=2022.1 in c:\\users\\thest\\anaconda3\\lib\\site-packages (from pandas) (2023.3)\n",
      "Requirement already satisfied: contourpy>=1.0.1 in c:\\users\\thest\\anaconda3\\lib\\site-packages (from matplotlib) (1.2.0)\n",
      "Requirement already satisfied: cycler>=0.10 in c:\\users\\thest\\anaconda3\\lib\\site-packages (from matplotlib) (0.11.0)\n",
      "Requirement already satisfied: fonttools>=4.22.0 in c:\\users\\thest\\anaconda3\\lib\\site-packages (from matplotlib) (4.25.0)\n",
      "Requirement already satisfied: kiwisolver>=1.0.1 in c:\\users\\thest\\anaconda3\\lib\\site-packages (from matplotlib) (1.4.4)\n",
      "Requirement already satisfied: packaging>=20.0 in c:\\users\\thest\\anaconda3\\lib\\site-packages (from matplotlib) (23.1)\n",
      "Requirement already satisfied: pillow>=6.2.0 in c:\\users\\thest\\anaconda3\\lib\\site-packages (from matplotlib) (10.2.0)\n",
      "Requirement already satisfied: pyparsing>=2.3.1 in c:\\users\\thest\\anaconda3\\lib\\site-packages (from matplotlib) (3.0.9)\n",
      "Requirement already satisfied: six>=1.5 in c:\\users\\thest\\anaconda3\\lib\\site-packages (from python-dateutil>=2.8.2->pandas) (1.16.0)\n"
     ]
    }
   ],
   "source": [
    "!pip install pandas matplotlib seaborn\n"
   ]
  },
  {
   "cell_type": "code",
   "execution_count": 16,
   "id": "3c0f4bbd-0445-4d63-99af-1ec263c5318f",
   "metadata": {},
   "outputs": [
    {
     "name": "stdout",
     "output_type": "stream",
     "text": [
      "SQLite version: 2.6.0\n"
     ]
    }
   ],
   "source": [
    "import sqlite3\n",
    "\n",
    "# Function to create a connection to the SQLite database\n",
    "def create_connection(db_file):\n",
    "    conn = None\n",
    "    try:\n",
    "        conn = sqlite3.connect(db_file)\n",
    "        print(f\"SQLite version: {sqlite3.version}\")\n",
    "    except sqlite3.Error as e:\n",
    "        print(e)\n",
    "    return conn\n",
    "\n",
    "# Function to create the transactions table\n",
    "def create_table(conn):\n",
    "    create_table_sql = \"\"\"\n",
    "    CREATE TABLE IF NOT EXISTS transactions (\n",
    "        id INTEGER PRIMARY KEY,\n",
    "        date TEXT NOT NULL,\n",
    "        type TEXT NOT NULL,\n",
    "        category TEXT NOT NULL,\n",
    "        amount REAL NOT NULL,\n",
    "        description TEXT\n",
    "    );\"\"\"\n",
    "    try:\n",
    "        c = conn.cursor()\n",
    "        c.execute(create_table_sql)\n",
    "    except sqlite3.Error as e:\n",
    "        print(e)\n",
    "\n",
    "# Create the database and table\n",
    "database = \"finance.db\"\n",
    "conn = create_connection(database)\n",
    "if conn is not None:\n",
    "    create_table(conn)\n",
    "    conn.close()\n"
   ]
  },
  {
   "cell_type": "code",
   "execution_count": 18,
   "id": "7e663aa9-0691-4a0d-85ef-7c38aecd6c19",
   "metadata": {},
   "outputs": [],
   "source": [
    "# Function to add a new transaction to the database\n",
    "def add_transaction(conn, transaction):\n",
    "    sql = ''' INSERT INTO transactions(date, type, category, amount, description)\n",
    "              VALUES(?,?,?,?,?) '''\n",
    "    cur = conn.cursor()\n",
    "    cur.execute(sql, transaction)\n",
    "    conn.commit()\n",
    "    return cur.lastrowid\n",
    "\n",
    "# Function to get all transactions from the database\n",
    "def get_all_transactions(conn):\n",
    "    cur = conn.cursor()\n",
    "    cur.execute(\"SELECT * FROM transactions\")\n",
    "    return cur.fetchall()\n",
    "\n",
    "# Function to search for transactions by category\n",
    "def search_transactions_by_category(conn, category):\n",
    "    cur = conn.cursor()\n",
    "    query = \"SELECT * FROM transactions WHERE category = ?\"\n",
    "    cur.execute(query, (category,))\n",
    "    return cur.fetchall()\n"
   ]
  },
  {
   "cell_type": "code",
   "execution_count": 19,
   "id": "7edccd29-ba3b-4312-981c-e81317329d48",
   "metadata": {},
   "outputs": [
    {
     "name": "stdout",
     "output_type": "stream",
     "text": [
      "SQLite version: 2.6.0\n"
     ]
    }
   ],
   "source": [
    "# Example transactions to add\n",
    "transactions_to_add = [\n",
    "    ('2024-05-20', 'Income', 'Salary', 5000.00, 'Monthly salary'),\n",
    "    ('2024-05-21', 'Expense', 'Groceries', -150.50, 'Weekly groceries'),\n",
    "    ('2024-05-22', 'Expense', 'Entertainment', -50.00, 'Movie night'),\n",
    "    ('2024-05-23', 'Income', 'Freelance', 200.00, 'Freelance project'),\n",
    "    ('2024-05-24', 'Expense', 'Utilities', -100.00, 'Electricity bill')\n",
    "]\n",
    "\n",
    "# Connect to the database and add transactions\n",
    "conn = create_connection(database)\n",
    "if conn is not None:\n",
    "    for transaction in transactions_to_add:\n",
    "        add_transaction(conn, transaction)\n",
    "    conn.close()\n"
   ]
  },
  {
   "cell_type": "code",
   "execution_count": 20,
   "id": "d642e073-2371-450d-8e72-b36f4b4c661c",
   "metadata": {},
   "outputs": [
    {
     "name": "stdout",
     "output_type": "stream",
     "text": [
      "SQLite version: 2.6.0\n"
     ]
    },
    {
     "data": {
      "text/html": [
       "<div>\n",
       "<style scoped>\n",
       "    .dataframe tbody tr th:only-of-type {\n",
       "        vertical-align: middle;\n",
       "    }\n",
       "\n",
       "    .dataframe tbody tr th {\n",
       "        vertical-align: top;\n",
       "    }\n",
       "\n",
       "    .dataframe thead th {\n",
       "        text-align: right;\n",
       "    }\n",
       "</style>\n",
       "<table border=\"1\" class=\"dataframe\">\n",
       "  <thead>\n",
       "    <tr style=\"text-align: right;\">\n",
       "      <th></th>\n",
       "      <th>id</th>\n",
       "      <th>date</th>\n",
       "      <th>type</th>\n",
       "      <th>category</th>\n",
       "      <th>amount</th>\n",
       "      <th>description</th>\n",
       "    </tr>\n",
       "  </thead>\n",
       "  <tbody>\n",
       "    <tr>\n",
       "      <th>0</th>\n",
       "      <td>1</td>\n",
       "      <td>2024-05-20</td>\n",
       "      <td>Income</td>\n",
       "      <td>Salary</td>\n",
       "      <td>5000.0</td>\n",
       "      <td>Monthly salary</td>\n",
       "    </tr>\n",
       "    <tr>\n",
       "      <th>1</th>\n",
       "      <td>2</td>\n",
       "      <td>2024-05-21</td>\n",
       "      <td>Expense</td>\n",
       "      <td>Groceries</td>\n",
       "      <td>-150.5</td>\n",
       "      <td>Weekly groceries</td>\n",
       "    </tr>\n",
       "    <tr>\n",
       "      <th>2</th>\n",
       "      <td>3</td>\n",
       "      <td>2024-05-22</td>\n",
       "      <td>Expense</td>\n",
       "      <td>Entertainment</td>\n",
       "      <td>-50.0</td>\n",
       "      <td>Movie night</td>\n",
       "    </tr>\n",
       "    <tr>\n",
       "      <th>3</th>\n",
       "      <td>4</td>\n",
       "      <td>2024-05-23</td>\n",
       "      <td>Income</td>\n",
       "      <td>Freelance</td>\n",
       "      <td>200.0</td>\n",
       "      <td>Freelance project</td>\n",
       "    </tr>\n",
       "    <tr>\n",
       "      <th>4</th>\n",
       "      <td>5</td>\n",
       "      <td>2024-05-24</td>\n",
       "      <td>Expense</td>\n",
       "      <td>Utilities</td>\n",
       "      <td>-100.0</td>\n",
       "      <td>Electricity bill</td>\n",
       "    </tr>\n",
       "  </tbody>\n",
       "</table>\n",
       "</div>"
      ],
      "text/plain": [
       "   id        date     type       category  amount        description\n",
       "0   1  2024-05-20   Income         Salary  5000.0     Monthly salary\n",
       "1   2  2024-05-21  Expense      Groceries  -150.5   Weekly groceries\n",
       "2   3  2024-05-22  Expense  Entertainment   -50.0        Movie night\n",
       "3   4  2024-05-23   Income      Freelance   200.0  Freelance project\n",
       "4   5  2024-05-24  Expense      Utilities  -100.0   Electricity bill"
      ]
     },
     "execution_count": 20,
     "metadata": {},
     "output_type": "execute_result"
    }
   ],
   "source": [
    "import pandas as pd\n",
    "\n",
    "# Fetch all transactions into a DataFrame\n",
    "conn = create_connection(database)\n",
    "transactions_df = pd.read_sql_query(\"SELECT * FROM transactions\", conn)\n",
    "conn.close()\n",
    "\n",
    "# Display the DataFrame\n",
    "transactions_df\n"
   ]
  },
  {
   "cell_type": "code",
   "execution_count": 21,
   "id": "27e5df54-8391-42fa-94af-060f3ddd88c8",
   "metadata": {},
   "outputs": [
    {
     "name": "stdout",
     "output_type": "stream",
     "text": [
      "Total Income: $5200.0\n",
      "Total Expenses: $-300.5\n"
     ]
    },
    {
     "data": {
      "image/png": "[encoded data removed]",
      "text/plain": [
       "<Figure size 1000x500 with 1 Axes>"
      ]
     },
     "metadata": {},
     "output_type": "display_data"
    },
    {
     "data": {
      "image/png": "[encoded data removed]",
      "text/plain": [
       "<Figure size 1000x500 with 1 Axes>"
      ]
     },
     "metadata": {},
     "output_type": "display_data"
    }
   ],
   "source": [
    "import matplotlib.pyplot as plt\n",
    "import seaborn as sns\n",
    "\n",
    "# Data Analysis: Total income and expenses\n",
    "total_income = transactions_df[transactions_df['type'] == 'Income']['amount'].sum()\n",
    "total_expenses = transactions_df[transactions_df['type'] == 'Expense']['amount'].sum()\n",
    "\n",
    "print(f\"Total Income: ${total_income}\")\n",
    "print(f\"Total Expenses: ${total_expenses}\")\n",
    "\n",
    "# Visualization: Income vs. Expenses over time\n",
    "transactions_df['date'] = pd.to_datetime(transactions_df['date'])\n",
    "transactions_df.set_index('date', inplace=True)\n",
    "\n",
    "# Plot: Income vs. Expenses over time\n",
    "transactions_df.groupby(['date', 'type'])['amount'].sum().unstack().plot(kind='bar', stacked=True, figsize=(10, 5))\n",
    "plt.title('Income vs. Expenses Over Time')\n",
    "plt.xlabel('Date')\n",
    "plt.ylabel('Amount')\n",
    "plt.show()\n",
    "\n",
    "# Analysis: Spending by category\n",
    "expense_by_category = transactions_df[transactions_df['type'] == 'Expense'].groupby('category')['amount'].sum()\n",
    "\n",
    "# Plot: Spending by category\n",
    "plt.figure(figsize=(10, 5))\n",
    "sns.barplot(x=expense_by_category.index, y=expense_by_category.values, palette='viridis')\n",
    "plt.title('Spending by Category')\n",
    "plt.xlabel('Category')\n",
    "plt.ylabel('Total Spending')\n",
    "plt.show()\n"
   ]
  },
  {
   "cell_type": "code",
   "execution_count": null,
   "id": "ebaf37f0-1fec-466e-b71a-4406c93b3bab",
   "metadata": {},
   "outputs": [],
   "source": []
  }
 ],
 "metadata": {
  "kernelspec": {
   "display_name": "Python 3 (ipykernel)",
   "language": "python",
   "name": "python3"
  },
  "language_info": {
   "codemirror_mode": {
    "name": "ipython",
    "version": 3
   },
   "file_extension": ".py",
   "mimetype": "text/x-python",
   "name": "python",
   "nbconvert_exporter": "python",
   "pygments_lexer": "ipython3",
   "version": "3.11.7"
  }
 },
 "nbformat": 4,
 "nbformat_minor": 5
}
